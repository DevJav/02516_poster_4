{
 "cells": [
  {
   "cell_type": "code",
   "execution_count": 1,
   "metadata": {},
   "outputs": [],
   "source": [
    "import torch\n",
    "import torch.nn as nn\n",
    "import torch.optim as optim\n",
    "import torch.nn.functional as F\n",
    "from torchvision import models, transforms as T\n",
    "import torch.utils.model_zoo as model_zoo\n",
    "from torch.utils.data import DataLoader\n",
    "import pandas as pd\n",
    "import os\n",
    "import numpy as np\n",
    "from PIL import Image\n",
    "from glob import glob\n",
    "\n",
    "from datasets import FlowVideoDataset, FrameVideoDataset\n",
    "\n",
    "import torch\n",
    "import torch.nn as nn\n",
    "import torch.nn.functional as F\n",
    "from torchvision import models\n",
    "import torch\n",
    "import torch.nn as nn\n",
    "from rgb_resnet import rgb_resnet50\n",
    "from flow_resnet import flow_resnet50\n",
    "import torch\n",
    "import torch.nn as nn\n",
    "import torch.nn.functional as F\n",
    "from torchvision import models\n",
    "\n",
    "class TwoStreamNetwork(nn.Module):\n",
    "    def __init__(self, num_classes, pretrained=True):\n",
    "        super(TwoStreamNetwork, self).__init__()\n",
    "\n",
    "        # Initialize the RGB stream (spatial stream)\n",
    "        self.rgb_stream = self._build_resnet(pretrained)\n",
    "\n",
    "        # Initialize the optical flow stream (temporal stream)\n",
    "        self.flow_stream = self._build_flow_resnet(pretrained)\n",
    "\n",
    "        # Fully connected layers after concatenation of the outputs from both streams\n",
    "        self.fc1 = nn.Linear(512 * 2, 1024)  # Concatenate features from both streams\n",
    "        self.fc2 = nn.Linear(1024, num_classes)\n",
    "\n",
    "         # Dropout layer to prevent overfitting\n",
    "        self.dropout = nn.Dropout(0.8)  # Dropout with 50% probability\n",
    "\n",
    "        self.batchnorm_fc1 = nn.BatchNorm1d(1024)  # BatchNorm for the first fully connected layer\n",
    "\n",
    "\n",
    "        \n",
    "\n",
    "    def _build_resnet(self, pretrained):\n",
    "        \"\"\"Build the ResNet model for RGB frames.\"\"\"\n",
    "        resnet = models.resnet18(pretrained=pretrained)\n",
    "        # Modify the first convolution layer to take 3 input channels (standard for RGB)\n",
    "        resnet.conv1 = nn.Conv2d(3, 64, kernel_size=(7, 7), stride=(2, 2), padding=(3, 3), bias=False)\n",
    "        return nn.Sequential(*list(resnet.children())[:-2])  # Remove FC and pooling layers\n",
    "\n",
    "    def _build_flow_resnet(self, pretrained):\n",
    "        \"\"\"Build the ResNet model for optical flow with 18 input channels.\"\"\"\n",
    "        resnet = models.resnet18(pretrained=pretrained)\n",
    "        # Modify the first convolution layer to take 18 input channels (for optical flow)\n",
    "        resnet.conv1 = nn.Conv2d(18, 64, kernel_size=(7, 7), stride=(2, 2), padding=(3, 3), bias=False)\n",
    "        return nn.Sequential(*list(resnet.children())[:-2])  # Remove FC and pooling layers\n",
    "\n",
    "    def forward(self, rgb_frames, optical_flow):\n",
    "        # Forward pass for spatial stream (RGB frames)\n",
    "        batch_size, channels, num_frames, height, width = rgb_frames.size()\n",
    "\n",
    "        # Process each RGB frame independently for the spatial stream\n",
    "        spatial_features = []\n",
    "        for i in range(num_frames):\n",
    "            frame = rgb_frames[:, :, i, :, :]  # Extract each frame independently\n",
    "            frame_features = self.rgb_stream(frame)  # Process the individual frame\n",
    "            frame_features = F.adaptive_avg_pool2d(frame_features, (1, 1))  # Pool to fix output size\n",
    "            spatial_features.append(frame_features.view(frame_features.size(0), -1))  # Flatten\n",
    "\n",
    "        # Stack features from all frames and average across time (optional)\n",
    "        spatial_features = torch.stack(spatial_features, dim=1)  # [batch_size, num_frames, features]\n",
    "        spatial_features = spatial_features.mean(dim=1)  # Average over frames (optional)\n",
    "\n",
    "        # Forward pass for temporal stream (Optical Flow)\n",
    "        batch_size, channels, height, width = optical_flow.size()\n",
    "        temporal_features = self.flow_stream(optical_flow)  # Process the entire stack of flow frames\n",
    "        temporal_features = F.adaptive_avg_pool2d(temporal_features, (1, 1))  # Pool to fix output size\n",
    "        temporal_features = temporal_features.view(temporal_features.size(0), -1)  # Flatten\n",
    "\n",
    "        # Concatenate features from both streams\n",
    "        combined_features = torch.cat((spatial_features, temporal_features), dim=1)\n",
    "\n",
    "        # Apply dropout before the fully connected layers\n",
    "        x = self.dropout(F.relu(self.fc1(combined_features)))\n",
    "        x = self.batchnorm_fc1(x)  # Apply BatchNorm\n",
    "        x = self.fc2(x)\n",
    "\n",
    "        return x\n",
    "\n",
    "\n",
    "\n",
    "\n",
    "# Combined dataset class for both frames and optical flow\n",
    "class TwoStreamVideoDataset(torch.utils.data.Dataset):\n",
    "    def __init__(self, root_dir='/work3/ppar/data/ucf101_noleakage', split='train', transform=None, stack_frames=True, resize=(64, 64)):\n",
    "        self.frame_dataset = FrameVideoDataset(root_dir=root_dir, split=split, transform=transform, stack_frames=stack_frames)\n",
    "        self.flow_dataset = FlowVideoDataset(root_dir=root_dir, split=split, resize=resize)\n",
    "        \n",
    "    def __len__(self):\n",
    "        return len(self.frame_dataset)\n",
    "    \n",
    "    def __getitem__(self, idx):\n",
    "        # Get data from both datasets\n",
    "        rgb_frames, label = self.frame_dataset[idx]\n",
    "        optical_flow, _ = self.flow_dataset[idx]  # No need for label here, it's already fetched\n",
    "\n",
    "        return rgb_frames, optical_flow, label\n",
    "    \n",
    "# Training and Evaluation functions\n",
    "def train(model, train_loader, criterion, optimizer, device):\n",
    "    model.train()\n",
    "    running_loss = 0.0\n",
    "    correct = 0\n",
    "    total = 0\n",
    "\n",
    "    for rgb_frames, optical_flow, labels in train_loader:\n",
    "        rgb_frames = rgb_frames.to(device)\n",
    "        optical_flow = optical_flow.to(device)\n",
    "        labels = labels.to(device)\n",
    "        print(rgb_frames.shape, optical_flow.shape, labels.shape)\n",
    "\n",
    "        optimizer.zero_grad()\n",
    "\n",
    "        outputs = model(rgb_frames, optical_flow)\n",
    "        loss = criterion(outputs, labels)\n",
    "\n",
    "        loss.backward()\n",
    "        optimizer.step()\n",
    "\n",
    "        running_loss += loss.item()\n",
    "        _, predicted = torch.max(outputs, 1)\n",
    "        total += labels.size(0)\n",
    "        correct += (predicted == labels).sum().item()\n",
    "\n",
    "    epoch_loss = running_loss / len(train_loader)\n",
    "    epoch_acc = 100 * correct / total\n",
    "    return epoch_loss, epoch_acc\n",
    "\n",
    "def evaluate(model, val_loader, criterion, device):\n",
    "    model.eval()\n",
    "    running_loss = 0.0\n",
    "    correct = 0\n",
    "    total = 0\n",
    "\n",
    "    with torch.no_grad():\n",
    "        for rgb_frames, optical_flow, labels in val_loader:\n",
    "            rgb_frames = rgb_frames.to(device)\n",
    "            optical_flow = optical_flow.to(device)\n",
    "            labels = labels.to(device)\n",
    "\n",
    "            outputs = model(rgb_frames, optical_flow)\n",
    "            loss = criterion(outputs, labels)\n",
    "\n",
    "            running_loss += loss.item()\n",
    "            _, predicted = torch.max(outputs, 1)\n",
    "            total += labels.size(0)\n",
    "            correct += (predicted == labels).sum().item()\n",
    "\n",
    "    epoch_loss = running_loss / len(val_loader)\n",
    "    epoch_acc = 100 * correct / total\n",
    "    return epoch_loss, epoch_acc\n"
   ]
  },
  {
   "cell_type": "code",
   "execution_count": 2,
   "metadata": {},
   "outputs": [
    {
     "name": "stdout",
     "output_type": "stream",
     "text": [
      "Frame dataset length: 500, Flow dataset length: 500\n",
      "TwoStream dataset length: 500, TwoStream validation dataset length: 120\n"
     ]
    },
    {
     "name": "stderr",
     "output_type": "stream",
     "text": [
      "/zhome/28/8/203659/UNI/venv_1/lib/python3.11/site-packages/torchvision/models/_utils.py:208: UserWarning: The parameter 'pretrained' is deprecated since 0.13 and may be removed in the future, please use 'weights' instead.\n",
      "  warnings.warn(\n",
      "/zhome/28/8/203659/UNI/venv_1/lib/python3.11/site-packages/torchvision/models/_utils.py:223: UserWarning: Arguments other than a weight enum or `None` for 'weights' are deprecated since 0.13 and may be removed in the future. The current behavior is equivalent to passing `weights=ResNet18_Weights.IMAGENET1K_V1`. You can also use `weights=ResNet18_Weights.DEFAULT` to get the most up-to-date weights.\n",
      "  warnings.warn(msg)\n",
      "Training Epoch: 100%|███████████████████████████████████████████████████████████████████████████████████████████████████████████████████████████████████████████████████████████████████████| 32/32 [00:20<00:00,  1.56it/s]\n",
      "Validating Epoch: 100%|███████████████████████████████████████████████████████████████████████████████████████████████████████████████████████████████████████████████████████████████████████| 8/8 [00:03<00:00,  2.14it/s]\n"
     ]
    },
    {
     "name": "stdout",
     "output_type": "stream",
     "text": [
      "Epoch 1/15\n",
      "  Training Loss: 2.3232, Accuracy: 13.20%\n",
      "  Validation Loss: 2.1900, Accuracy: 27.50%\n"
     ]
    },
    {
     "name": "stderr",
     "output_type": "stream",
     "text": [
      "Training Epoch: 100%|███████████████████████████████████████████████████████████████████████████████████████████████████████████████████████████████████████████████████████████████████████| 32/32 [00:19<00:00,  1.64it/s]\n",
      "Validating Epoch: 100%|███████████████████████████████████████████████████████████████████████████████████████████████████████████████████████████████████████████████████████████████████████| 8/8 [00:03<00:00,  2.09it/s]\n"
     ]
    },
    {
     "name": "stdout",
     "output_type": "stream",
     "text": [
      "Epoch 2/15\n",
      "  Training Loss: 2.1628, Accuracy: 19.40%\n",
      "  Validation Loss: 2.1014, Accuracy: 25.83%\n"
     ]
    },
    {
     "name": "stderr",
     "output_type": "stream",
     "text": [
      "Training Epoch: 100%|███████████████████████████████████████████████████████████████████████████████████████████████████████████████████████████████████████████████████████████████████████| 32/32 [00:19<00:00,  1.60it/s]\n",
      "Validating Epoch: 100%|███████████████████████████████████████████████████████████████████████████████████████████████████████████████████████████████████████████████████████████████████████| 8/8 [00:03<00:00,  2.18it/s]\n"
     ]
    },
    {
     "name": "stdout",
     "output_type": "stream",
     "text": [
      "Epoch 3/15\n",
      "  Training Loss: 2.0583, Accuracy: 29.60%\n",
      "  Validation Loss: 2.0542, Accuracy: 30.00%\n"
     ]
    },
    {
     "name": "stderr",
     "output_type": "stream",
     "text": [
      "Training Epoch: 100%|███████████████████████████████████████████████████████████████████████████████████████████████████████████████████████████████████████████████████████████████████████| 32/32 [00:19<00:00,  1.66it/s]\n",
      "Validating Epoch: 100%|███████████████████████████████████████████████████████████████████████████████████████████████████████████████████████████████████████████████████████████████████████| 8/8 [00:03<00:00,  2.23it/s]\n"
     ]
    },
    {
     "name": "stdout",
     "output_type": "stream",
     "text": [
      "Epoch 4/15\n",
      "  Training Loss: 1.9620, Accuracy: 32.80%\n",
      "  Validation Loss: 2.1100, Accuracy: 25.83%\n"
     ]
    },
    {
     "name": "stderr",
     "output_type": "stream",
     "text": [
      "Training Epoch: 100%|███████████████████████████████████████████████████████████████████████████████████████████████████████████████████████████████████████████████████████████████████████| 32/32 [00:18<00:00,  1.74it/s]\n",
      "Validating Epoch: 100%|███████████████████████████████████████████████████████████████████████████████████████████████████████████████████████████████████████████████████████████████████████| 8/8 [00:03<00:00,  2.21it/s]\n"
     ]
    },
    {
     "name": "stdout",
     "output_type": "stream",
     "text": [
      "Epoch 5/15\n",
      "  Training Loss: 1.8923, Accuracy: 40.60%\n",
      "  Validation Loss: 2.2484, Accuracy: 28.33%\n"
     ]
    },
    {
     "name": "stderr",
     "output_type": "stream",
     "text": [
      "Training Epoch: 100%|███████████████████████████████████████████████████████████████████████████████████████████████████████████████████████████████████████████████████████████████████████| 32/32 [00:18<00:00,  1.72it/s]\n",
      "Validating Epoch: 100%|███████████████████████████████████████████████████████████████████████████████████████████████████████████████████████████████████████████████████████████████████████| 8/8 [00:03<00:00,  2.25it/s]\n"
     ]
    },
    {
     "name": "stdout",
     "output_type": "stream",
     "text": [
      "Epoch 6/15\n",
      "  Training Loss: 1.7813, Accuracy: 45.20%\n",
      "  Validation Loss: 2.0426, Accuracy: 30.83%\n"
     ]
    },
    {
     "name": "stderr",
     "output_type": "stream",
     "text": [
      "Training Epoch: 100%|███████████████████████████████████████████████████████████████████████████████████████████████████████████████████████████████████████████████████████████████████████| 32/32 [00:16<00:00,  1.89it/s]\n",
      "Validating Epoch: 100%|███████████████████████████████████████████████████████████████████████████████████████████████████████████████████████████████████████████████████████████████████████| 8/8 [00:03<00:00,  2.41it/s]\n"
     ]
    },
    {
     "name": "stdout",
     "output_type": "stream",
     "text": [
      "Epoch 7/15\n",
      "  Training Loss: 1.7392, Accuracy: 49.00%\n",
      "  Validation Loss: 2.0184, Accuracy: 36.67%\n"
     ]
    },
    {
     "name": "stderr",
     "output_type": "stream",
     "text": [
      "Training Epoch: 100%|███████████████████████████████████████████████████████████████████████████████████████████████████████████████████████████████████████████████████████████████████████| 32/32 [00:16<00:00,  1.96it/s]\n",
      "Validating Epoch: 100%|███████████████████████████████████████████████████████████████████████████████████████████████████████████████████████████████████████████████████████████████████████| 8/8 [00:03<00:00,  2.44it/s]\n"
     ]
    },
    {
     "name": "stdout",
     "output_type": "stream",
     "text": [
      "Epoch 8/15\n",
      "  Training Loss: 1.6143, Accuracy: 57.40%\n",
      "  Validation Loss: 2.2657, Accuracy: 35.83%\n"
     ]
    },
    {
     "name": "stderr",
     "output_type": "stream",
     "text": [
      "Training Epoch: 100%|███████████████████████████████████████████████████████████████████████████████████████████████████████████████████████████████████████████████████████████████████████| 32/32 [00:16<00:00,  1.98it/s]\n",
      "Validating Epoch: 100%|███████████████████████████████████████████████████████████████████████████████████████████████████████████████████████████████████████████████████████████████████████| 8/8 [00:03<00:00,  2.43it/s]\n"
     ]
    },
    {
     "name": "stdout",
     "output_type": "stream",
     "text": [
      "Epoch 9/15\n",
      "  Training Loss: 1.5040, Accuracy: 62.40%\n",
      "  Validation Loss: 2.8573, Accuracy: 25.00%\n"
     ]
    },
    {
     "name": "stderr",
     "output_type": "stream",
     "text": [
      "Training Epoch: 100%|███████████████████████████████████████████████████████████████████████████████████████████████████████████████████████████████████████████████████████████████████████| 32/32 [00:15<00:00,  2.01it/s]\n",
      "Validating Epoch: 100%|███████████████████████████████████████████████████████████████████████████████████████████████████████████████████████████████████████████████████████████████████████| 8/8 [00:03<00:00,  2.45it/s]\n"
     ]
    },
    {
     "name": "stdout",
     "output_type": "stream",
     "text": [
      "Epoch 10/15\n",
      "  Training Loss: 1.4511, Accuracy: 65.20%\n",
      "  Validation Loss: 1.8399, Accuracy: 31.67%\n"
     ]
    },
    {
     "name": "stderr",
     "output_type": "stream",
     "text": [
      "Training Epoch: 100%|███████████████████████████████████████████████████████████████████████████████████████████████████████████████████████████████████████████████████████████████████████| 32/32 [00:15<00:00,  2.03it/s]\n",
      "Validating Epoch: 100%|███████████████████████████████████████████████████████████████████████████████████████████████████████████████████████████████████████████████████████████████████████| 8/8 [00:03<00:00,  2.43it/s]\n"
     ]
    },
    {
     "name": "stdout",
     "output_type": "stream",
     "text": [
      "Epoch 11/15\n",
      "  Training Loss: 1.3970, Accuracy: 67.00%\n",
      "  Validation Loss: 1.9990, Accuracy: 40.00%\n"
     ]
    },
    {
     "name": "stderr",
     "output_type": "stream",
     "text": [
      "Training Epoch: 100%|███████████████████████████████████████████████████████████████████████████████████████████████████████████████████████████████████████████████████████████████████████| 32/32 [00:15<00:00,  2.03it/s]\n",
      "Validating Epoch: 100%|███████████████████████████████████████████████████████████████████████████████████████████████████████████████████████████████████████████████████████████████████████| 8/8 [00:03<00:00,  2.44it/s]\n"
     ]
    },
    {
     "name": "stdout",
     "output_type": "stream",
     "text": [
      "Epoch 12/15\n",
      "  Training Loss: 1.3254, Accuracy: 74.20%\n",
      "  Validation Loss: 1.8751, Accuracy: 38.33%\n"
     ]
    },
    {
     "name": "stderr",
     "output_type": "stream",
     "text": [
      "Training Epoch: 100%|███████████████████████████████████████████████████████████████████████████████████████████████████████████████████████████████████████████████████████████████████████| 32/32 [00:15<00:00,  2.01it/s]\n",
      "Validating Epoch: 100%|███████████████████████████████████████████████████████████████████████████████████████████████████████████████████████████████████████████████████████████████████████| 8/8 [00:03<00:00,  2.44it/s]\n"
     ]
    },
    {
     "name": "stdout",
     "output_type": "stream",
     "text": [
      "Epoch 13/15\n",
      "  Training Loss: 1.2590, Accuracy: 73.20%\n",
      "  Validation Loss: 1.6830, Accuracy: 41.67%\n"
     ]
    },
    {
     "name": "stderr",
     "output_type": "stream",
     "text": [
      "Training Epoch: 100%|███████████████████████████████████████████████████████████████████████████████████████████████████████████████████████████████████████████████████████████████████████| 32/32 [00:17<00:00,  1.81it/s]\n",
      "Validating Epoch: 100%|███████████████████████████████████████████████████████████████████████████████████████████████████████████████████████████████████████████████████████████████████████| 8/8 [00:04<00:00,  1.63it/s]\n"
     ]
    },
    {
     "name": "stdout",
     "output_type": "stream",
     "text": [
      "Epoch 14/15\n",
      "  Training Loss: 1.1675, Accuracy: 78.20%\n",
      "  Validation Loss: 1.7493, Accuracy: 40.00%\n"
     ]
    },
    {
     "name": "stderr",
     "output_type": "stream",
     "text": [
      "Training Epoch: 100%|███████████████████████████████████████████████████████████████████████████████████████████████████████████████████████████████████████████████████████████████████████| 32/32 [00:20<00:00,  1.59it/s]\n",
      "Validating Epoch: 100%|███████████████████████████████████████████████████████████████████████████████████████████████████████████████████████████████████████████████████████████████████████| 8/8 [00:03<00:00,  2.27it/s]\n"
     ]
    },
    {
     "name": "stdout",
     "output_type": "stream",
     "text": [
      "Epoch 15/15\n",
      "  Training Loss: 1.1214, Accuracy: 79.00%\n",
      "  Validation Loss: 1.7274, Accuracy: 40.00%\n"
     ]
    },
    {
     "data": {
      "image/png": "[encoded data removed]",
      "text/plain": [
       "<Figure size 1200x500 with 2 Axes>"
      ]
     },
     "metadata": {},
     "output_type": "display_data"
    }
   ],
   "source": [
    "import torch\n",
    "import torch.optim as optim\n",
    "import torch.nn as nn\n",
    "import torch.nn.functional as F\n",
    "import matplotlib.pyplot as plt\n",
    "from torch.utils.data import DataLoader\n",
    "from torchvision import transforms as T\n",
    "from tqdm import tqdm  # For showing the progress bar\n",
    "\n",
    "# Define the device\n",
    "device = torch.device('cuda' if torch.cuda.is_available() else 'cpu')\n",
    "num_classes = 10  # Number of classes in UCF101\n",
    "\n",
    "w = h = 224\n",
    "size = (w, h)\n",
    "# Initialize the dataset\n",
    "root_dir = '/dtu/datasets1/02516/ucf101_noleakage'\n",
    "transform = T.Compose([T.Resize(size), T.ToTensor()])\n",
    "\n",
    "framevideo_dataset = FrameVideoDataset(root_dir=root_dir, split='train', transform=transform, stack_frames=True)\n",
    "flowvideo_dataset = FlowVideoDataset(root_dir=root_dir, split='train', resize=size)\n",
    "print(f\"Frame dataset length: {len(framevideo_dataset)}, Flow dataset length: {len(flowvideo_dataset)}\")\n",
    "\n",
    "twostream_dataset = TwoStreamVideoDataset(root_dir=root_dir, split='train', transform=transform, stack_frames=True, resize=size)\n",
    "twostream_val_dataset = TwoStreamVideoDataset(root_dir=root_dir, split='val', transform=transform, stack_frames=True, resize=size)\n",
    "\n",
    "print(f\"TwoStream dataset length: {len(twostream_dataset)}, TwoStream validation dataset length: {len(twostream_val_dataset)}\")\n",
    "\n",
    "train_loader = DataLoader(twostream_dataset, batch_size=16, shuffle=True)\n",
    "val_loader = DataLoader(twostream_val_dataset, batch_size=16, shuffle=False)\n",
    "\n",
    "# Model, loss function, optimizer\n",
    "model = TwoStreamNetwork(num_classes=num_classes,pretrained=True).to(device)\n",
    "criterion = nn.CrossEntropyLoss()\n",
    "optimizer = optim.Adam(model.parameters(), lr=0.0001, weight_decay=1e-5)\n",
    "\n",
    "# Track loss and accuracy for plotting\n",
    "train_losses = []\n",
    "val_losses = []\n",
    "train_accuracies = []\n",
    "val_accuracies = []\n",
    "\n",
    "# Training loop\n",
    "def train_epoch(model, train_loader, criterion, optimizer, device):\n",
    "    model.train()\n",
    "    running_loss = 0.0\n",
    "    correct = 0\n",
    "    total = 0\n",
    "\n",
    "    # Using tqdm for a progress bar\n",
    "    for rgb_frames, optical_flow, labels in tqdm(train_loader, desc=\"Training Epoch\"):\n",
    "        rgb_frames, optical_flow, labels = rgb_frames.to(device), optical_flow.to(device), labels.to(device)\n",
    "\n",
    "        optimizer.zero_grad()\n",
    "        \n",
    "        # Forward pass\n",
    "        outputs = model(rgb_frames, optical_flow)\n",
    "        loss = criterion(outputs, labels)\n",
    "        \n",
    "        # Backward pass\n",
    "        loss.backward()\n",
    "        optimizer.step()\n",
    "\n",
    "        # Update running loss and accuracy\n",
    "        running_loss += loss.item()\n",
    "        _, predicted = torch.max(outputs, 1)\n",
    "        total += labels.size(0)\n",
    "        correct += (predicted == labels).sum().item()\n",
    "\n",
    "    epoch_loss = running_loss / len(train_loader)\n",
    "    epoch_acc = 100 * correct / total\n",
    "    return epoch_loss, epoch_acc\n",
    "\n",
    "def validate_epoch(model, val_loader, criterion, device):\n",
    "    model.eval()\n",
    "    running_loss = 0.0\n",
    "    correct = 0\n",
    "    total = 0\n",
    "\n",
    "    with torch.no_grad():\n",
    "        for rgb_frames, optical_flow, labels in tqdm(val_loader, desc=\"Validating Epoch\"):\n",
    "            rgb_frames, optical_flow, labels = rgb_frames.to(device), optical_flow.to(device), labels.to(device)\n",
    "\n",
    "            # Forward pass\n",
    "            outputs = model(rgb_frames, optical_flow)\n",
    "            loss = criterion(outputs, labels)\n",
    "\n",
    "            # Update running loss and accuracy\n",
    "            running_loss += loss.item()\n",
    "            _, predicted = torch.max(outputs, 1)\n",
    "            total += labels.size(0)\n",
    "            correct += (predicted == labels).sum().item()\n",
    "\n",
    "    epoch_loss = running_loss / len(val_loader)\n",
    "    epoch_acc = 100 * correct / total\n",
    "    return epoch_loss, epoch_acc\n",
    "\n",
    "# Train and validate for a few epochs and plot the results\n",
    "num_epochs = 15  # Change to 100 as needed\n",
    "\n",
    "for epoch in range(1, num_epochs + 1):\n",
    "    train_loss, train_acc = train_epoch(model, train_loader, criterion, optimizer, device)\n",
    "    val_loss, val_acc = validate_epoch(model, val_loader, criterion, device)\n",
    "    \n",
    "    # Store loss and accuracy for plotting\n",
    "    train_losses.append(train_loss)\n",
    "    val_losses.append(val_loss)\n",
    "    train_accuracies.append(train_acc)\n",
    "    val_accuracies.append(val_acc)\n",
    "\n",
    "    print(f\"Epoch {epoch}/{num_epochs}\")\n",
    "    print(f\"  Training Loss: {train_loss:.4f}, Accuracy: {train_acc:.2f}%\")\n",
    "    print(f\"  Validation Loss: {val_loss:.4f}, Accuracy: {val_acc:.2f}%\")\n",
    "\n",
    "# Save the trained model\n",
    "torch.save(model.state_dict(), 'two_stream_ucf101.pth')\n",
    "\n",
    "# Plotting the training and validation loss and accuracy\n",
    "def plot_training_metrics(losses, accuracies, val_losses, val_accuracies):\n",
    "    epochs = range(1, len(losses) + 1)\n",
    "\n",
    "    # Plot Loss\n",
    "    plt.figure(figsize=(12, 5))\n",
    "    plt.subplot(1, 2, 1)\n",
    "    plt.plot(epochs, losses, label='Training Loss', color='red')\n",
    "    plt.plot(epochs, val_losses, label='Validation Loss', color='blue')\n",
    "    plt.title('Training and Validation Loss')\n",
    "    plt.xlabel('Epochs')\n",
    "    plt.ylabel('Loss')\n",
    "    plt.legend()\n",
    "    plt.grid(True)\n",
    "    \n",
    "    # Plot Accuracy\n",
    "    plt.subplot(1, 2, 2)\n",
    "    plt.plot(epochs, accuracies, label='Training Accuracy', color='green')\n",
    "    plt.plot(epochs, val_accuracies, label='Validation Accuracy', color='orange')\n",
    "    plt.title('Training and Validation Accuracy')\n",
    "    plt.xlabel('Epochs')\n",
    "    plt.ylabel('Accuracy (%)')\n",
    "    plt.legend()\n",
    "    plt.grid(True)\n",
    "\n",
    "    plt.tight_layout()\n",
    "    plt.show()\n",
    "\n",
    "# Call the plotting function\n",
    "plot_training_metrics(train_losses, train_accuracies, val_losses, val_accuracies)\n"
   ]
  },
  {
   "cell_type": "code",
   "execution_count": 6,
   "metadata": {},
   "outputs": [
    {
     "name": "stdout",
     "output_type": "stream",
     "text": [
      "Test Loss: 3.3281, Accuracy: 40.83%\n"
     ]
    }
   ],
   "source": [
    "# evaluate the model\n",
    "framevideo_dataset = FrameVideoDataset(root_dir=root_dir, split='test', transform=transform, stack_frames=True)\n",
    "flowvideo_dataset = FlowVideoDataset(root_dir=root_dir, split='test', resize=(64, 64))\n",
    "\n",
    "twostream_dataset = TwoStreamVideoDataset(root_dir=root_dir, split='test', transform=transform, stack_frames=True, resize=(64, 64))\n",
    "\n",
    "test_loader = DataLoader(twostream_dataset, batch_size=8, shuffle=False)\n",
    "\n",
    "test_loss, test_acc = evaluate(model, test_loader, criterion, device)\n",
    "print(f\"Test Loss: {test_loss:.4f}, Accuracy: {test_acc:.2f}%\")\n",
    "\n"
   ]
  },
  {
   "cell_type": "code",
   "execution_count": 5,
   "metadata": {},
   "outputs": [
    {
     "name": "stdout",
     "output_type": "stream",
     "text": [
      "Visualizing predictions for test video batch 120\n"
     ]
    },
    {
     "ename": "StopIteration",
     "evalue": "",
     "output_type": "error",
     "traceback": [
      "\u001b[0;31m---------------------------------------------------------------------------\u001b[0m",
      "\u001b[0;31mStopIteration\u001b[0m                             Traceback (most recent call last)",
      "Cell \u001b[0;32mIn[5], line 51\u001b[0m\n\u001b[1;32m     47\u001b[0m     plt\u001b[38;5;241m.\u001b[39mshow()\n\u001b[1;32m     49\u001b[0m \u001b[38;5;66;03m# Example usage\u001b[39;00m\n\u001b[1;32m     50\u001b[0m \u001b[38;5;66;03m# Ensure that you have the test_loader and model loaded, and adjust batch_index as needed.\u001b[39;00m\n\u001b[0;32m---> 51\u001b[0m \u001b[43mvisualize_predictions\u001b[49m\u001b[43m(\u001b[49m\u001b[43mtest_loader\u001b[49m\u001b[43m,\u001b[49m\u001b[43m \u001b[49m\u001b[43mmodel\u001b[49m\u001b[43m,\u001b[49m\u001b[43m \u001b[49m\u001b[43mdevice\u001b[49m\u001b[43m,\u001b[49m\u001b[43m \u001b[49m\u001b[43mbatch_index\u001b[49m\u001b[38;5;241;43m=\u001b[39;49m\u001b[38;5;241;43m120\u001b[39;49m\u001b[43m,\u001b[49m\u001b[43m \u001b[49m\u001b[43mresults_dir\u001b[49m\u001b[38;5;241;43m=\u001b[39;49m\u001b[38;5;124;43m'\u001b[39;49m\u001b[38;5;124;43mresults\u001b[39;49m\u001b[38;5;124;43m'\u001b[39;49m\u001b[43m)\u001b[49m\n",
      "Cell \u001b[0;32mIn[5], line 17\u001b[0m, in \u001b[0;36mvisualize_predictions\u001b[0;34m(test_loader, model, device, batch_index, results_dir)\u001b[0m\n\u001b[1;32m     15\u001b[0m \u001b[38;5;66;03m# Skip to the desired batch\u001b[39;00m\n\u001b[1;32m     16\u001b[0m \u001b[38;5;28;01mfor\u001b[39;00m _ \u001b[38;5;129;01min\u001b[39;00m \u001b[38;5;28mrange\u001b[39m(batch_index):\n\u001b[0;32m---> 17\u001b[0m     frames, optical_flow, labels \u001b[38;5;241m=\u001b[39m \u001b[38;5;28mnext\u001b[39m(test_iter)\n\u001b[1;32m     19\u001b[0m \u001b[38;5;66;03m# Ensure frames, optical_flow, and labels are on the correct device\u001b[39;00m\n\u001b[1;32m     20\u001b[0m frames, optical_flow, labels \u001b[38;5;241m=\u001b[39m frames\u001b[38;5;241m.\u001b[39mto(device), optical_flow\u001b[38;5;241m.\u001b[39mto(device), labels\u001b[38;5;241m.\u001b[39mto(device)\n",
      "File \u001b[0;32m~/UNI/venv_1/lib/python3.11/site-packages/torch/utils/data/dataloader.py:630\u001b[0m, in \u001b[0;36m_BaseDataLoaderIter.__next__\u001b[0;34m(self)\u001b[0m\n\u001b[1;32m    627\u001b[0m \u001b[38;5;28;01mif\u001b[39;00m \u001b[38;5;28mself\u001b[39m\u001b[38;5;241m.\u001b[39m_sampler_iter \u001b[38;5;129;01mis\u001b[39;00m \u001b[38;5;28;01mNone\u001b[39;00m:\n\u001b[1;32m    628\u001b[0m     \u001b[38;5;66;03m# TODO(https://github.com/pytorch/pytorch/issues/76750)\u001b[39;00m\n\u001b[1;32m    629\u001b[0m     \u001b[38;5;28mself\u001b[39m\u001b[38;5;241m.\u001b[39m_reset()  \u001b[38;5;66;03m# type: ignore[call-arg]\u001b[39;00m\n\u001b[0;32m--> 630\u001b[0m data \u001b[38;5;241m=\u001b[39m \u001b[38;5;28;43mself\u001b[39;49m\u001b[38;5;241;43m.\u001b[39;49m\u001b[43m_next_data\u001b[49m\u001b[43m(\u001b[49m\u001b[43m)\u001b[49m\n\u001b[1;32m    631\u001b[0m \u001b[38;5;28mself\u001b[39m\u001b[38;5;241m.\u001b[39m_num_yielded \u001b[38;5;241m+\u001b[39m\u001b[38;5;241m=\u001b[39m \u001b[38;5;241m1\u001b[39m\n\u001b[1;32m    632\u001b[0m \u001b[38;5;28;01mif\u001b[39;00m \u001b[38;5;28mself\u001b[39m\u001b[38;5;241m.\u001b[39m_dataset_kind \u001b[38;5;241m==\u001b[39m _DatasetKind\u001b[38;5;241m.\u001b[39mIterable \u001b[38;5;129;01mand\u001b[39;00m \\\n\u001b[1;32m    633\u001b[0m         \u001b[38;5;28mself\u001b[39m\u001b[38;5;241m.\u001b[39m_IterableDataset_len_called \u001b[38;5;129;01mis\u001b[39;00m \u001b[38;5;129;01mnot\u001b[39;00m \u001b[38;5;28;01mNone\u001b[39;00m \u001b[38;5;129;01mand\u001b[39;00m \\\n\u001b[1;32m    634\u001b[0m         \u001b[38;5;28mself\u001b[39m\u001b[38;5;241m.\u001b[39m_num_yielded \u001b[38;5;241m>\u001b[39m \u001b[38;5;28mself\u001b[39m\u001b[38;5;241m.\u001b[39m_IterableDataset_len_called:\n",
      "File \u001b[0;32m~/UNI/venv_1/lib/python3.11/site-packages/torch/utils/data/dataloader.py:672\u001b[0m, in \u001b[0;36m_SingleProcessDataLoaderIter._next_data\u001b[0;34m(self)\u001b[0m\n\u001b[1;32m    671\u001b[0m \u001b[38;5;28;01mdef\u001b[39;00m \u001b[38;5;21m_next_data\u001b[39m(\u001b[38;5;28mself\u001b[39m):\n\u001b[0;32m--> 672\u001b[0m     index \u001b[38;5;241m=\u001b[39m \u001b[38;5;28;43mself\u001b[39;49m\u001b[38;5;241;43m.\u001b[39;49m\u001b[43m_next_index\u001b[49m\u001b[43m(\u001b[49m\u001b[43m)\u001b[49m  \u001b[38;5;66;03m# may raise StopIteration\u001b[39;00m\n\u001b[1;32m    673\u001b[0m     data \u001b[38;5;241m=\u001b[39m \u001b[38;5;28mself\u001b[39m\u001b[38;5;241m.\u001b[39m_dataset_fetcher\u001b[38;5;241m.\u001b[39mfetch(index)  \u001b[38;5;66;03m# may raise StopIteration\u001b[39;00m\n\u001b[1;32m    674\u001b[0m     \u001b[38;5;28;01mif\u001b[39;00m \u001b[38;5;28mself\u001b[39m\u001b[38;5;241m.\u001b[39m_pin_memory:\n",
      "File \u001b[0;32m~/UNI/venv_1/lib/python3.11/site-packages/torch/utils/data/dataloader.py:620\u001b[0m, in \u001b[0;36m_BaseDataLoaderIter._next_index\u001b[0;34m(self)\u001b[0m\n\u001b[1;32m    619\u001b[0m \u001b[38;5;28;01mdef\u001b[39;00m \u001b[38;5;21m_next_index\u001b[39m(\u001b[38;5;28mself\u001b[39m):\n\u001b[0;32m--> 620\u001b[0m     \u001b[38;5;28;01mreturn\u001b[39;00m \u001b[38;5;28mnext\u001b[39m(\u001b[38;5;28mself\u001b[39m\u001b[38;5;241m.\u001b[39m_sampler_iter)\n",
      "\u001b[0;31mStopIteration\u001b[0m: "
     ]
    }
   ],
   "source": [
    "import torch\n",
    "import matplotlib.pyplot as plt\n",
    "import os\n",
    "\n",
    "# Define class names\n",
    "classes = [\"class_0\", \"class_1\", \"class_2\", \"class_3\", ..., \"class_n\"]  # Replace with actual class names\n",
    "\n",
    "# Function to visualize predictions for a batch\n",
    "def visualize_predictions(test_loader, model, device, batch_index=0, results_dir='results'):\n",
    "    print(f'Visualizing predictions for test video batch {batch_index}')\n",
    "    \n",
    "    # Get the batch from the test_loader\n",
    "    test_iter = iter(test_loader)\n",
    "    \n",
    "    # Skip to the desired batch\n",
    "    for _ in range(batch_index):\n",
    "        frames, optical_flow, labels = next(test_iter)\n",
    "    \n",
    "    # Ensure frames, optical_flow, and labels are on the correct device\n",
    "    frames, optical_flow, labels = frames.to(device), optical_flow.to(device), labels.to(device)\n",
    "    \n",
    "    # Get predictions for the batch\n",
    "    with torch.no_grad():\n",
    "        outputs = model(frames, optical_flow)  # Pass both RGB frames and optical flow\n",
    "        _, predicted = torch.max(outputs.data, 1)\n",
    "    \n",
    "    # Convert frames, predicted labels, and true labels to CPU for visualization\n",
    "    frames = frames.cpu()\n",
    "    predicted_classes = [classes[p.item()] for p in predicted]  # Get predicted class names\n",
    "    true_classes = [classes[l.item()] for l in labels]  # Get true class names\n",
    "\n",
    "    # Plot all frames with their predicted and true labels\n",
    "    plt.figure(figsize=(15, 6))\n",
    "    for i in range(min(len(frames), 10)):  # Plot up to 10 frames\n",
    "        frame = frames[i].permute(1, 2, 0).numpy()  # Rearrange dimensions for visualization\n",
    "        plt.subplot(2, 5, i + 1)\n",
    "        plt.imshow(frame)\n",
    "        plt.title(f\"Pred: {predicted_classes[i]}\\nTrue: {true_classes[i]}\")\n",
    "        plt.axis('off')\n",
    "    \n",
    "    plt.suptitle(f'Predictions for Test Video (Batch {batch_index})')\n",
    "    plt.tight_layout(rect=[0, 0, 1, 0.95])\n",
    "    \n",
    "    # Save the plot\n",
    "    os.makedirs(results_dir, exist_ok=True)\n",
    "    plt.savefig(os.path.join(results_dir, f'test_video_predictions_batch_{batch_index}.png'))\n",
    "    plt.show()\n",
    "\n",
    "# Example usage\n",
    "# Ensure that you have the test_loader and model loaded, and adjust batch_index as needed.\n",
    "visualize_predictions(test_loader, model, device, batch_index=120, results_dir='results')\n"
   ]
  },
  {
   "cell_type": "code",
   "execution_count": null,
   "metadata": {},
   "outputs": [],
   "source": []
  }
 ],
 "metadata": {
  "kernelspec": {
   "display_name": "Python 3 (ipykernel)",
   "language": "python",
   "name": "python3"
  },
  "language_info": {
   "codemirror_mode": {
    "name": "ipython",
    "version": 3
   },
   "file_extension": ".py",
   "mimetype": "text/x-python",
   "name": "python",
   "nbconvert_exporter": "python",
   "pygments_lexer": "ipython3",
   "version": "3.11.9"
  }
 },
 "nbformat": 4,
 "nbformat_minor": 2
}
